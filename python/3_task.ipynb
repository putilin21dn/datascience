{
 "cells": [
  {
   "cell_type": "markdown",
   "id": "657be689",
   "metadata": {},
   "source": [
    "# Самостоятельное задание #3\n",
    "\n",
    "\n",
    "### Задание 1\n",
    "\n",
    "Допишите функцию, которая принимает массив из 10 чисел и возвращает их сумму."
   ]
  },
  {
   "cell_type": "code",
   "execution_count": 1,
   "id": "18ffcbab",
   "metadata": {},
   "outputs": [],
   "source": [
    "def sum_mas(array : list):\n",
    "    return sum(array)"
   ]
  },
  {
   "cell_type": "code",
   "execution_count": 2,
   "id": "62786599",
   "metadata": {},
   "outputs": [
    {
     "data": {
      "text/plain": [
       "9"
      ]
     },
     "execution_count": 2,
     "metadata": {},
     "output_type": "execute_result"
    }
   ],
   "source": [
    "sum_mas([5,4])"
   ]
  },
  {
   "cell_type": "markdown",
   "id": "eb78afc0",
   "metadata": {},
   "source": [
    "\n",
    "### Задание 2\n",
    "\n",
    "Допишите функцию, которая принимает массив чисел и возвращает количество чисел равных нулю."
   ]
  },
  {
   "cell_type": "code",
   "execution_count": 3,
   "id": "7e8fe536",
   "metadata": {},
   "outputs": [],
   "source": [
    "def count_is_null(array : list):\n",
    "    return array.count(0)"
   ]
  },
  {
   "cell_type": "code",
   "execution_count": 4,
   "id": "7c983853",
   "metadata": {},
   "outputs": [
    {
     "data": {
      "text/plain": [
       "2"
      ]
     },
     "execution_count": 4,
     "metadata": {},
     "output_type": "execute_result"
    }
   ],
   "source": [
    "count_is_null([5,0,0,4,8])"
   ]
  },
  {
   "cell_type": "code",
   "execution_count": 6,
   "id": "00b3998d",
   "metadata": {},
   "outputs": [
    {
     "data": {
      "text/plain": [
       "1"
      ]
     },
     "execution_count": 6,
     "metadata": {},
     "output_type": "execute_result"
    }
   ],
   "source": [
    "count_is_null([0])"
   ]
  },
  {
   "cell_type": "markdown",
   "id": "570d5a26",
   "metadata": {},
   "source": [
    "\n",
    "### Задание 3\n",
    "\n",
    "Напишите программу, в которой задается  натуральное число n и выводится лестница из n ступенек, i-я ступенька должна состоять из чисел от 1 до i без пробелов."
   ]
  },
  {
   "cell_type": "code",
   "execution_count": 26,
   "id": "69fd0501",
   "metadata": {},
   "outputs": [
    {
     "name": "stdout",
     "output_type": "stream",
     "text": [
      "Введите число n: 5\n",
      "1\n",
      "12\n",
      "123\n",
      "1234\n",
      "12345\n"
     ]
    }
   ],
   "source": [
    "n = int(input('Введите число n: '))\n",
    "for i in range(1,n+1):\n",
    "    for j in range(1,i+1):\n",
    "        print(j, end=\"\")\n",
    "    print()"
   ]
  },
  {
   "cell_type": "markdown",
   "id": "b6ef1c44",
   "metadata": {},
   "source": [
    "\n",
    "### Задание 4\n",
    "\n",
    "Напишите программу, в которой задается натуральное число n и выводится пирамида из n ступенек, i-я ступень должна состоять из чисел от 1 до i и обратно без пробелов."
   ]
  },
  {
   "cell_type": "code",
   "execution_count": 31,
   "id": "6b038f87",
   "metadata": {},
   "outputs": [
    {
     "name": "stdout",
     "output_type": "stream",
     "text": [
      "Введите число n: 5\n",
      "    11\n",
      "   1221\n",
      "  123321\n",
      " 12344321\n",
      "1234554321\n"
     ]
    }
   ],
   "source": [
    "n = int(input('Введите число n: '))\n",
    "for i in range(1,n+1):\n",
    "    print(' '*(n-i), end=\"\")\n",
    "    for j in range(1,i+1):\n",
    "        print(j, end=\"\")\n",
    "    for j in range(i,0,-1):\n",
    "        print(j, end=\"\")\n",
    "    print()"
   ]
  },
  {
   "cell_type": "markdown",
   "id": "b4552ef5",
   "metadata": {},
   "source": [
    "\n",
    "### Задание 5\n",
    "\n",
    "Напишите программу, в которой задается натуральное число n и выводится ромб из `n*2-1` ступенек, i-я ступень должна состоять из чисел от 1 до i и обратно без пробелов."
   ]
  },
  {
   "cell_type": "code",
   "execution_count": 34,
   "id": "5eaae897",
   "metadata": {},
   "outputs": [
    {
     "name": "stdout",
     "output_type": "stream",
     "text": [
      "Введите число n: 5\n",
      "    11\n",
      "   1221\n",
      "  123321\n",
      " 12344321\n",
      "1234554321\n",
      " 12344321\n",
      "  123321\n",
      "   1221\n",
      "    11\n"
     ]
    }
   ],
   "source": [
    "n = int(input('Введите число n: '))\n",
    "for i in range(1,n*2):\n",
    "    if i<=n:\n",
    "        print(' '*(n-i), end=\"\")\n",
    "        for j in range(1,i+1):\n",
    "            print(j, end=\"\")\n",
    "        for j in range(i,0,-1):\n",
    "            print(j, end=\"\")\n",
    "    else:\n",
    "        print(' '*(n-(n-i%n)), end=\"\")\n",
    "        t = (n-i%n)\n",
    "        for j in range(1,t+1):\n",
    "            print(j, end=\"\")\n",
    "        for j in range(t,0,-1):\n",
    "            print(j, end=\"\")\n",
    "    print()"
   ]
  }
 ],
 "metadata": {
  "kernelspec": {
   "display_name": "Python 3",
   "language": "python",
   "name": "python3"
  },
  "language_info": {
   "codemirror_mode": {
    "name": "ipython",
    "version": 3
   },
   "file_extension": ".py",
   "mimetype": "text/x-python",
   "name": "python",
   "nbconvert_exporter": "python",
   "pygments_lexer": "ipython3",
   "version": "3.8.8"
  }
 },
 "nbformat": 4,
 "nbformat_minor": 5
}
