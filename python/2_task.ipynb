{
 "cells": [
  {
   "cell_type": "markdown",
   "id": "246424fe",
   "metadata": {},
   "source": [
    "# Самостоятельная работа #2\n",
    "### Задание 1\n",
    "\n",
    "Допишите функцию, которая принимает 2 числа, сравнивает между собой и возвращает наименьшее."
   ]
  },
  {
   "cell_type": "code",
   "execution_count": 2,
   "id": "1b225d18",
   "metadata": {},
   "outputs": [],
   "source": [
    "def min(a,b):\n",
    "    if a<b:\n",
    "        return a\n",
    "    return b"
   ]
  },
  {
   "cell_type": "code",
   "execution_count": 8,
   "id": "709840f8",
   "metadata": {},
   "outputs": [
    {
     "data": {
      "text/plain": [
       "5"
      ]
     },
     "execution_count": 8,
     "metadata": {},
     "output_type": "execute_result"
    }
   ],
   "source": [
    "min(5,7)"
   ]
  },
  {
   "cell_type": "code",
   "execution_count": 9,
   "id": "2e49e175",
   "metadata": {},
   "outputs": [
    {
     "data": {
      "text/plain": [
       "5"
      ]
     },
     "execution_count": 9,
     "metadata": {},
     "output_type": "execute_result"
    }
   ],
   "source": [
    "min(5,5)"
   ]
  },
  {
   "cell_type": "markdown",
   "id": "9342d85f",
   "metadata": {},
   "source": [
    "### Задание 2\n",
    "\n",
    "Допишите функцию, которая принимает 3 числа, сравнивает между собой и возвращает наименьшее."
   ]
  },
  {
   "cell_type": "code",
   "execution_count": 5,
   "id": "5371aa95",
   "metadata": {},
   "outputs": [],
   "source": [
    "def min_tree(a,b,c):\n",
    "    mas = [a,b,c]\n",
    "    mas = sorted(mas)\n",
    "    return mas[0]"
   ]
  },
  {
   "cell_type": "code",
   "execution_count": 7,
   "id": "42d8bd92",
   "metadata": {},
   "outputs": [
    {
     "data": {
      "text/plain": [
       "1"
      ]
     },
     "execution_count": 7,
     "metadata": {},
     "output_type": "execute_result"
    }
   ],
   "source": [
    "min_tree(5,3,1)"
   ]
  },
  {
   "cell_type": "markdown",
   "id": "9ef85dfd",
   "metadata": {},
   "source": [
    "### Задание 3\n",
    "\n",
    "Допишите функцию, которая принимает 3 числа, сравнивает между собой и возвращает количество совпадающих чисел. Соответственно, программа может возвращать одно из трех чисел: 3 - если совпадают все, 2 - если совпадают 2 числа, 0 - если все числа различны."
   ]
  },
  {
   "cell_type": "code",
   "execution_count": 10,
   "id": "ec6a169c",
   "metadata": {},
   "outputs": [],
   "source": [
    "def count_in_mas(a,b,c):\n",
    "    dict = {}\n",
    "    mas = [a,b,c]\n",
    "    for elem in mas:\n",
    "        dict[elem] = mas.count(elem)\n",
    "    maxim = 0\n",
    "    for el in dict:\n",
    "        if maxim < dict[el]:\n",
    "            maxim = dict[el]\n",
    "    if maxim==1:\n",
    "        return 0\n",
    "    return maxim"
   ]
  },
  {
   "cell_type": "code",
   "execution_count": 11,
   "id": "48d8f11b",
   "metadata": {},
   "outputs": [
    {
     "data": {
      "text/plain": [
       "2"
      ]
     },
     "execution_count": 11,
     "metadata": {},
     "output_type": "execute_result"
    }
   ],
   "source": [
    "count_in_mas(5,5,2)"
   ]
  },
  {
   "cell_type": "code",
   "execution_count": 12,
   "id": "638e0bb8",
   "metadata": {},
   "outputs": [
    {
     "data": {
      "text/plain": [
       "3"
      ]
     },
     "execution_count": 12,
     "metadata": {},
     "output_type": "execute_result"
    }
   ],
   "source": [
    "count_in_mas(5,5,5)"
   ]
  },
  {
   "cell_type": "code",
   "execution_count": 13,
   "id": "d9182522",
   "metadata": {},
   "outputs": [
    {
     "data": {
      "text/plain": [
       "0"
      ]
     },
     "execution_count": 13,
     "metadata": {},
     "output_type": "execute_result"
    }
   ],
   "source": [
    "count_in_mas(5,3,2)"
   ]
  }
 ],
 "metadata": {
  "kernelspec": {
   "display_name": "Python 3",
   "language": "python",
   "name": "python3"
  },
  "language_info": {
   "codemirror_mode": {
    "name": "ipython",
    "version": 3
   },
   "file_extension": ".py",
   "mimetype": "text/x-python",
   "name": "python",
   "nbconvert_exporter": "python",
   "pygments_lexer": "ipython3",
   "version": "3.8.8"
  }
 },
 "nbformat": 4,
 "nbformat_minor": 5
}
