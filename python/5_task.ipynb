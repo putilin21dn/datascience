{
 "cells": [
  {
   "cell_type": "markdown",
   "id": "85755de8",
   "metadata": {},
   "source": [
    "# Самостоятельное задание #5\n",
    "\n",
    "\n",
    "### Задание 1\n",
    "\n",
    "Допишите функцию, которая принимает список, выбирает из него все элементы с четным индексом и возвращает их в виде списка."
   ]
  },
  {
   "cell_type": "code",
   "execution_count": 4,
   "id": "6ef6d9b3",
   "metadata": {},
   "outputs": [],
   "source": [
    "def even_in_mas(array : list)-> list:\n",
    "    return array[::2]"
   ]
  },
  {
   "cell_type": "code",
   "execution_count": 2,
   "id": "b8f11218",
   "metadata": {},
   "outputs": [
    {
     "data": {
      "text/plain": [
       "[5, 7, 4]"
      ]
     },
     "execution_count": 2,
     "metadata": {},
     "output_type": "execute_result"
    }
   ],
   "source": [
    "even_in_mas([5,6,7,2,4,9])"
   ]
  },
  {
   "cell_type": "markdown",
   "id": "443974c9",
   "metadata": {},
   "source": [
    "### Задание 2\n",
    "\n",
    "Допишите функцию, которая принимает список, выбирает из него все элементы, которые больше предыдущего и возвращает их в виде списка.\n"
   ]
  },
  {
   "cell_type": "code",
   "execution_count": 7,
   "id": "3a8cf925",
   "metadata": {},
   "outputs": [],
   "source": [
    "def over_in_mas(array : list)-> list:\n",
    "    ans = []\n",
    "    n = len(array)\n",
    "    for i in range(1,n):\n",
    "        if array[i]>array[i-1]:\n",
    "            ans.append(array[i])\n",
    "    return ans"
   ]
  },
  {
   "cell_type": "code",
   "execution_count": 8,
   "id": "e5398063",
   "metadata": {},
   "outputs": [
    {
     "data": {
      "text/plain": [
       "[5, 8, 10]"
      ]
     },
     "execution_count": 8,
     "metadata": {},
     "output_type": "execute_result"
    }
   ],
   "source": [
    "over_in_mas([1,5,2,1,8,6,10])"
   ]
  },
  {
   "cell_type": "markdown",
   "id": "34524ede",
   "metadata": {},
   "source": [
    "### Задание 3\n",
    "\n",
    "Допишите функцию, которая принимает список, меняет местами наибольший и наименьший элементы и возвращает этот список."
   ]
  },
  {
   "cell_type": "code",
   "execution_count": 9,
   "id": "34d2beae",
   "metadata": {},
   "outputs": [],
   "source": [
    "def replace_min_max(array : list)-> list:\n",
    "    minim = 100000000\n",
    "    maxim = -1000000000\n",
    "    ind_max = 0\n",
    "    ind_min = 0\n",
    "    for i in range(len(array)):\n",
    "        if array[i]> maxim:\n",
    "            maxim = array[i]\n",
    "            ind_max = i\n",
    "        if array[i]< minim:\n",
    "            minim = array[i]\n",
    "            ind_min = i\n",
    "    array[ind_min] = maxim\n",
    "    array[ind_max] = minim\n",
    "    return array\n",
    "        "
   ]
  },
  {
   "cell_type": "code",
   "execution_count": 10,
   "id": "3b497c48",
   "metadata": {},
   "outputs": [
    {
     "data": {
      "text/plain": [
       "[5, 6, 2, -5, -10, 20, 100, 9]"
      ]
     },
     "execution_count": 10,
     "metadata": {},
     "output_type": "execute_result"
    }
   ],
   "source": [
    "replace_min_max([5,6,2,-5,100,20,-10,9])"
   ]
  }
 ],
 "metadata": {
  "kernelspec": {
   "display_name": "Python 3",
   "language": "python",
   "name": "python3"
  },
  "language_info": {
   "codemirror_mode": {
    "name": "ipython",
    "version": 3
   },
   "file_extension": ".py",
   "mimetype": "text/x-python",
   "name": "python",
   "nbconvert_exporter": "python",
   "pygments_lexer": "ipython3",
   "version": "3.8.8"
  }
 },
 "nbformat": 4,
 "nbformat_minor": 5
}
