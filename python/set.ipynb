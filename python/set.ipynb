{
 "cells": [
  {
   "cell_type": "markdown",
   "id": "8d492d9a",
   "metadata": {},
   "source": [
    "# Множества\n",
    "\n",
    "Как говорилось ранее, множества содержат неповторяющиеся данные в произвольном порядке. Создадим множество несколькими способами:"
   ]
  },
  {
   "cell_type": "code",
   "execution_count": 1,
   "id": "f8007eb3",
   "metadata": {},
   "outputs": [
    {
     "name": "stdout",
     "output_type": "stream",
     "text": [
      "set()\n"
     ]
    }
   ],
   "source": [
    "a = set()\n",
    "print(a)"
   ]
  },
  {
   "cell_type": "code",
   "execution_count": 5,
   "id": "18076db4",
   "metadata": {},
   "outputs": [
    {
     "name": "stdout",
     "output_type": "stream",
     "text": [
      "{'m', 'a', 'd', 'l', 'b'}\n"
     ]
    }
   ],
   "source": [
    "a = set('lambda')\n",
    "print(a)"
   ]
  },
  {
   "cell_type": "code",
   "execution_count": 6,
   "id": "92eb78d5",
   "metadata": {},
   "outputs": [
    {
     "name": "stdout",
     "output_type": "stream",
     "text": [
      "{'m', 'a', 'b', 'd', 'l'}\n"
     ]
    }
   ],
   "source": [
    "a = {'m', 'a', 'd', 'l', 'b'}\n",
    "print(a)"
   ]
  },
  {
   "cell_type": "code",
   "execution_count": 7,
   "id": "6cf11648",
   "metadata": {},
   "outputs": [
    {
     "name": "stdout",
     "output_type": "stream",
     "text": [
      "{0, 1, 64, 4, 36, 9, 16, 49, 81, 25}\n"
     ]
    }
   ],
   "source": [
    "a = {i ** 2 for i in range(10)}\n",
    "print(a)"
   ]
  },
  {
   "cell_type": "markdown",
   "id": "6d8d5760",
   "metadata": {},
   "source": [
    "Множества удобно использовать для удаления повторяющихся элементов:"
   ]
  },
  {
   "cell_type": "code",
   "execution_count": 9,
   "id": "95ab2929",
   "metadata": {},
   "outputs": [
    {
     "data": {
      "text/plain": [
       "{'best', 'lambda', 'mai'}"
      ]
     },
     "execution_count": 9,
     "metadata": {},
     "output_type": "execute_result"
    }
   ],
   "source": [
    ">>> words = ['lambda', 'best', 'mai', 'mai']\n",
    ">>> set(words)"
   ]
  },
  {
   "cell_type": "markdown",
   "id": "36dbb1ce",
   "metadata": {},
   "source": [
    "## Методы для работы со множествами\n",
    "\n",
    "Методы множеств, в основном, вызываются по схеме: `set.method()`. Ниже будут перечислены полезные методы для работы с множествами:\n",
    "\n",
    "- `len(s)` - число элементов в множестве (размер множества)"
   ]
  },
  {
   "cell_type": "code",
   "execution_count": 11,
   "id": "7e9669e7",
   "metadata": {},
   "outputs": [
    {
     "data": {
      "text/plain": [
       "5"
      ]
     },
     "execution_count": 11,
     "metadata": {},
     "output_type": "execute_result"
    }
   ],
   "source": [
    "a = {'l', 'a', 'm', 'b', 'd', 'a'}\n",
    "len(a)"
   ]
  },
  {
   "cell_type": "markdown",
   "id": "ec5fd79f",
   "metadata": {},
   "source": [
    "- `x in s` - принадлежит ли `x` множеству `s`"
   ]
  },
  {
   "cell_type": "code",
   "execution_count": 13,
   "id": "883252c6",
   "metadata": {},
   "outputs": [
    {
     "data": {
      "text/plain": [
       "True"
      ]
     },
     "execution_count": 13,
     "metadata": {},
     "output_type": "execute_result"
    }
   ],
   "source": [
    "a = {'l', 'a', 'm', 'b', 'd', 'a'}\n",
    "'a' in a"
   ]
  },
  {
   "cell_type": "markdown",
   "id": "d7b1c09d",
   "metadata": {},
   "source": [
    "- `isdisjoint(other)` - истина, если `set` и `other` не имеют общих элементов"
   ]
  },
  {
   "cell_type": "code",
   "execution_count": 14,
   "id": "4e465fc3",
   "metadata": {},
   "outputs": [
    {
     "data": {
      "text/plain": [
       "False"
      ]
     },
     "execution_count": 14,
     "metadata": {},
     "output_type": "execute_result"
    }
   ],
   "source": [
    "a = {'l', 'a', 'm', 'b', 'd', 'a'}\n",
    "a.isdisjoint('a')"
   ]
  },
  {
   "cell_type": "code",
   "execution_count": 15,
   "id": "8789de31",
   "metadata": {},
   "outputs": [
    {
     "data": {
      "text/plain": [
       "True"
      ]
     },
     "execution_count": 15,
     "metadata": {},
     "output_type": "execute_result"
    }
   ],
   "source": [
    "a.isdisjoint('f')"
   ]
  },
  {
   "cell_type": "markdown",
   "id": "5825164a",
   "metadata": {},
   "source": [
    " - `issubset(other)` или `set <= other` - истина, если все элементы `set` принадлежат `other`\n",
    " - `issuperset(other)` или `set >= other` - аналогично"
   ]
  },
  {
   "cell_type": "code",
   "execution_count": 16,
   "id": "1f6533a7",
   "metadata": {},
   "outputs": [
    {
     "data": {
      "text/plain": [
       "False"
      ]
     },
     "execution_count": 16,
     "metadata": {},
     "output_type": "execute_result"
    }
   ],
   "source": [
    "a = {'l', 'a', 'm', 'b', 'd', 'a'}\n",
    "a.issubset({'a', 'b', 'c', 'd','f','e'})"
   ]
  },
  {
   "cell_type": "code",
   "execution_count": 17,
   "id": "206761ca",
   "metadata": {},
   "outputs": [
    {
     "data": {
      "text/plain": [
       "False"
      ]
     },
     "execution_count": 17,
     "metadata": {},
     "output_type": "execute_result"
    }
   ],
   "source": [
    "a.issuperset({'a', 'b', 'c', 'd','f','e'})"
   ]
  },
  {
   "cell_type": "markdown",
   "id": "e6dc3588",
   "metadata": {},
   "source": [
    "- `union(other, ...)` или `set | other | ...` - возвращает объединение нескольких множеств"
   ]
  },
  {
   "cell_type": "code",
   "execution_count": 19,
   "id": "beff51d1",
   "metadata": {},
   "outputs": [
    {
     "data": {
      "text/plain": [
       "{'a', 'b', 'd', 'f', 'l', 'm'}"
      ]
     },
     "execution_count": 19,
     "metadata": {},
     "output_type": "execute_result"
    }
   ],
   "source": [
    "a = {'l', 'a', 'm', 'b', 'd', 'a'}\n",
    "a.union({'f','d'})"
   ]
  },
  {
   "cell_type": "markdown",
   "id": "8978b8a0",
   "metadata": {},
   "source": [
    "- `intersection(other, ...)` или `set & other & ...` - возвращает пересечение множеств"
   ]
  },
  {
   "cell_type": "code",
   "execution_count": 20,
   "id": "4fa46004",
   "metadata": {},
   "outputs": [
    {
     "data": {
      "text/plain": [
       "{'a'}"
      ]
     },
     "execution_count": 20,
     "metadata": {},
     "output_type": "execute_result"
    }
   ],
   "source": [
    "a = {'l', 'a', 'm', 'b', 'd', 'a'}\n",
    "a.intersection({'f','a'})"
   ]
  },
  {
   "cell_type": "markdown",
   "id": "fba4e5d9",
   "metadata": {},
   "source": [
    "- `difference(other, ...)` или `set - other - ...` -возвращает множество из всех элементов set, не принадлежащие ни одному из other\n"
   ]
  },
  {
   "cell_type": "code",
   "execution_count": 21,
   "id": "d62bb2da",
   "metadata": {},
   "outputs": [
    {
     "data": {
      "text/plain": [
       "{'b', 'l', 'm'}"
      ]
     },
     "execution_count": 21,
     "metadata": {},
     "output_type": "execute_result"
    }
   ],
   "source": [
    "a = {'l', 'a', 'm', 'b', 'd', 'a'}\n",
    "a.difference({'a','f','d'})"
   ]
  },
  {
   "cell_type": "markdown",
   "id": "b3afaae3",
   "metadata": {},
   "source": [
    "- `symmetric_difference(other)`; `set ^ other` - возвращает множество из элементов, встречающихся в одном множестве, но не встречающиеся в обоих\n"
   ]
  },
  {
   "cell_type": "code",
   "execution_count": 22,
   "id": "a803a23a",
   "metadata": {},
   "outputs": [
    {
     "data": {
      "text/plain": [
       "{'b', 'c'}"
      ]
     },
     "execution_count": 22,
     "metadata": {},
     "output_type": "execute_result"
    }
   ],
   "source": [
    "a = {'a', 'b', 'c', 'd'}\n",
    "a.symmetric_difference({'a','d'})"
   ]
  },
  {
   "cell_type": "markdown",
   "id": "75675b9d",
   "metadata": {},
   "source": [
    "- `copy()` - копия множества"
   ]
  },
  {
   "cell_type": "code",
   "execution_count": 23,
   "id": "6163dc21",
   "metadata": {},
   "outputs": [
    {
     "name": "stdout",
     "output_type": "stream",
     "text": [
      "{'a', 'b', 'd', 'c'}\n"
     ]
    }
   ],
   "source": [
    "a = {'a', 'b', 'c', 'd'}\n",
    "d = a.copy()\n",
    "print(d)"
   ]
  },
  {
   "cell_type": "markdown",
   "id": "7f96d6f4",
   "metadata": {},
   "source": [
    "- `update(other, ...)`; `set |= other | ...` - объединение множеств. Метод, вносящий изменения в множество"
   ]
  },
  {
   "cell_type": "code",
   "execution_count": 25,
   "id": "5650d61a",
   "metadata": {},
   "outputs": [
    {
     "name": "stdout",
     "output_type": "stream",
     "text": [
      "{'c', 'w', 'z', 'a', 'b', 'd'}\n"
     ]
    }
   ],
   "source": [
    "a = {'a', 'b', 'c', 'd'}\n",
    "a.update({'w','z'})\n",
    "print(a)"
   ]
  },
  {
   "cell_type": "markdown",
   "id": "4d8c8bdc",
   "metadata": {},
   "source": [
    "- `intersection_update(other, ...)`; `set &= other & ...` - пересечение множеств. Метод, вносящий изменения в множество\n"
   ]
  },
  {
   "cell_type": "code",
   "execution_count": 26,
   "id": "a80b5169",
   "metadata": {},
   "outputs": [
    {
     "name": "stdout",
     "output_type": "stream",
     "text": [
      "{'a', 'd'}\n"
     ]
    }
   ],
   "source": [
    "a = {'a', 'b', 'c', 'd'}\n",
    "a.intersection_update({'a','d'})\n",
    "print(a)"
   ]
  },
  {
   "cell_type": "markdown",
   "id": "3021b531",
   "metadata": {},
   "source": [
    "- `difference_update(other, ...); set -= other | ...` - вычитание множеств. Метод, вносящий изменения в множество"
   ]
  },
  {
   "cell_type": "code",
   "execution_count": 27,
   "id": "2d1d46c1",
   "metadata": {},
   "outputs": [
    {
     "name": "stdout",
     "output_type": "stream",
     "text": [
      "{'c', 'b'}\n"
     ]
    }
   ],
   "source": [
    "a = {'a', 'b', 'c', 'd'}\n",
    "a.difference_update({'a','d'})\n",
    "print(a)"
   ]
  },
  {
   "cell_type": "markdown",
   "id": "61df88f5",
   "metadata": {},
   "source": [
    "- `symmetric_difference_update(other); set ^= other` - множество из элементов, встречающихся в одном множестве, но не встречающиеся в обоих. Метод, вносящий изменения в множество"
   ]
  },
  {
   "cell_type": "code",
   "execution_count": 29,
   "id": "f4dc2bc5",
   "metadata": {},
   "outputs": [
    {
     "name": "stdout",
     "output_type": "stream",
     "text": [
      "{'d', 'c'}\n"
     ]
    }
   ],
   "source": [
    "a = {'a', 'b', 'c', 'd'}\n",
    "a.symmetric_difference_update({'a','b'})\n",
    "print(a)"
   ]
  },
  {
   "cell_type": "markdown",
   "id": "707c8cca",
   "metadata": {},
   "source": [
    "- `add(elem)` - добавляет элемент в множество. Метод, вносящий изменения в множество"
   ]
  },
  {
   "cell_type": "code",
   "execution_count": 30,
   "id": "e5b4aaaf",
   "metadata": {},
   "outputs": [
    {
     "name": "stdout",
     "output_type": "stream",
     "text": [
      "{'c', 'a', 'r', 'd', 'b'}\n"
     ]
    }
   ],
   "source": [
    "a = {'a', 'b', 'c', 'd'}\n",
    "a.add('r')\n",
    "print(a)"
   ]
  },
  {
   "cell_type": "markdown",
   "id": "27d4d99f",
   "metadata": {},
   "source": [
    "- `remove(elem)` - удаляет элемент из множества. KeyError, если такого элемента не существует. Метод, вносящий изменения в множество"
   ]
  },
  {
   "cell_type": "code",
   "execution_count": 31,
   "id": "ad54da2e",
   "metadata": {},
   "outputs": [
    {
     "name": "stdout",
     "output_type": "stream",
     "text": [
      "{'a', 'd', 'c'}\n"
     ]
    }
   ],
   "source": [
    "a = {'a', 'b', 'c', 'd'}\n",
    "a.remove('b')\n",
    "print(a)"
   ]
  },
  {
   "cell_type": "markdown",
   "id": "9fc9363c",
   "metadata": {},
   "source": [
    "- `discard(elem)` - удаляет элемент, если он находится в множестве. Метод, вносящий изменения в множество"
   ]
  },
  {
   "cell_type": "code",
   "execution_count": 32,
   "id": "7890fde2",
   "metadata": {},
   "outputs": [
    {
     "name": "stdout",
     "output_type": "stream",
     "text": [
      "{'a', 'b', 'd'}\n"
     ]
    }
   ],
   "source": [
    "a = {'a', 'b', 'c', 'd'}\n",
    "a.discard('c')\n",
    "print(a)"
   ]
  },
  {
   "cell_type": "markdown",
   "id": "4771964d",
   "metadata": {},
   "source": [
    "- `pop()` - удаляет первый элемент из множества. Так как множества не упорядочены, нельзя точно сказать, какой элемент будет первым. Метод, вносящий изменения в множество"
   ]
  },
  {
   "cell_type": "code",
   "execution_count": 33,
   "id": "66207788",
   "metadata": {},
   "outputs": [
    {
     "data": {
      "text/plain": [
       "'a'"
      ]
     },
     "execution_count": 33,
     "metadata": {},
     "output_type": "execute_result"
    }
   ],
   "source": [
    "a = {'a', 'b', 'c', 'd'}\n",
    "a.pop()"
   ]
  },
  {
   "cell_type": "code",
   "execution_count": 34,
   "id": "a0ac488f",
   "metadata": {},
   "outputs": [
    {
     "name": "stdout",
     "output_type": "stream",
     "text": [
      "{'b', 'd', 'c'}\n"
     ]
    }
   ],
   "source": [
    "print(a)"
   ]
  },
  {
   "cell_type": "markdown",
   "id": "4d303cc6",
   "metadata": {},
   "source": [
    "- `clear()` - очистка множества. Метод, вносящий изменения в множество"
   ]
  },
  {
   "cell_type": "code",
   "execution_count": 35,
   "id": "a0d5a959",
   "metadata": {},
   "outputs": [
    {
     "name": "stdout",
     "output_type": "stream",
     "text": [
      "set()\n"
     ]
    }
   ],
   "source": [
    "a = {'a', 'b', 'c', 'd'}\n",
    "a.clear()\n",
    "print(a)"
   ]
  },
  {
   "cell_type": "markdown",
   "id": "c3790753",
   "metadata": {},
   "source": [
    "`frozenset`: единственное отличие от `set` заключается в том, что `frozenset` не меняется, соответственно, к `frozenset` можно применить только те методы, которые не меняют множество."
   ]
  }
 ],
 "metadata": {
  "kernelspec": {
   "display_name": "Python 3",
   "language": "python",
   "name": "python3"
  },
  "language_info": {
   "codemirror_mode": {
    "name": "ipython",
    "version": 3
   },
   "file_extension": ".py",
   "mimetype": "text/x-python",
   "name": "python",
   "nbconvert_exporter": "python",
   "pygments_lexer": "ipython3",
   "version": "3.8.8"
  }
 },
 "nbformat": 4,
 "nbformat_minor": 5
}
